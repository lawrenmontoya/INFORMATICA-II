{
  "nbformat": 4,
  "nbformat_minor": 0,
  "metadata": {
    "colab": {
      "provenance": []
    },
    "kernelspec": {
      "name": "python3",
      "display_name": "Python 3"
    },
    "language_info": {
      "name": "python"
    }
  },
  "cells": [
    {
      "cell_type": "code",
      "execution_count": null,
      "metadata": {
        "id": "LX4ZY2yA6uGx"
      },
      "outputs": [],
      "source": [
        "import numpy as np\n",
        "\n",
        "np.set_printoptions(precision=0, suppress=True)"
      ]
    },
    {
      "cell_type": "code",
      "source": [
        "edadMatriz =np.random.uniform(\n",
        "  low=20,\n",
        "  high=50,\n",
        "  size=(3,3)\n",
        ")\n",
        "edadMatriz"
      ],
      "metadata": {
        "colab": {
          "base_uri": "https://localhost:8080/"
        },
        "id": "8Ad6k7A9982q",
        "outputId": "f47dbbb7-73fc-42ba-8f21-ed98e77e6c49"
      },
      "execution_count": null,
      "outputs": [
        {
          "output_type": "execute_result",
          "data": {
            "text/plain": [
              "array([[44., 36., 34.],\n",
              "       [37., 36., 24.],\n",
              "       [47., 42., 21.]])"
            ]
          },
          "metadata": {},
          "execution_count": 18
        }
      ]
    },
    {
      "cell_type": "code",
      "source": [
        "ingresosMatriz =np.random.uniform(\n",
        "  low=2000,\n",
        "  high=5000,\n",
        "  size=(3,3)\n",
        ")\n",
        "ingresosMatriz"
      ],
      "metadata": {
        "colab": {
          "base_uri": "https://localhost:8080/"
        },
        "id": "mH5imjja-AC4",
        "outputId": "e296e317-1efd-4bc7-cfa8-76c3dd0f2e00"
      },
      "execution_count": null,
      "outputs": [
        {
          "output_type": "execute_result",
          "data": {
            "text/plain": [
              "array([[3377., 3886., 3212.],\n",
              "       [4331., 2769., 4466.],\n",
              "       [4250., 4459., 3551.]])"
            ]
          },
          "metadata": {},
          "execution_count": 19
        }
      ]
    },
    {
      "cell_type": "code",
      "source": [
        "edadColumn =  edadMatriz.reshape(9)\n",
        "edadColumn"
      ],
      "metadata": {
        "colab": {
          "base_uri": "https://localhost:8080/"
        },
        "id": "Tw4lwZ77-EGf",
        "outputId": "482b7f16-03ab-4fa4-8f07-84933c1d6fa9"
      },
      "execution_count": null,
      "outputs": [
        {
          "output_type": "execute_result",
          "data": {
            "text/plain": [
              "array([44., 36., 34., 37., 36., 24., 47., 42., 21.])"
            ]
          },
          "metadata": {},
          "execution_count": 21
        }
      ]
    },
    {
      "cell_type": "code",
      "source": [
        "ingresosColumn =  ingresosMatriz.reshape(9)\n",
        "ingresosColumn"
      ],
      "metadata": {
        "colab": {
          "base_uri": "https://localhost:8080/"
        },
        "id": "1HCH28yt-HC4",
        "outputId": "5ea6a004-7b2b-4b97-85d7-97e3e28da6a4"
      },
      "execution_count": null,
      "outputs": [
        {
          "output_type": "execute_result",
          "data": {
            "text/plain": [
              "array([3377., 3886., 3212., 4331., 2769., 4466., 4250., 4459., 3551.])"
            ]
          },
          "metadata": {},
          "execution_count": 23
        }
      ]
    },
    {
      "cell_type": "code",
      "source": [
        "combina = np.column_stack([edadColumn,ingresosColumn])\n",
        "combina"
      ],
      "metadata": {
        "colab": {
          "base_uri": "https://localhost:8080/"
        },
        "id": "wZzgjNyo-QX4",
        "outputId": "6421a398-c551-4ae0-d25c-f39a5b621ed6"
      },
      "execution_count": null,
      "outputs": [
        {
          "output_type": "execute_result",
          "data": {
            "text/plain": [
              "array([[  44., 3377.],\n",
              "       [  36., 3886.],\n",
              "       [  34., 3212.],\n",
              "       [  37., 4331.],\n",
              "       [  36., 2769.],\n",
              "       [  24., 4466.],\n",
              "       [  47., 4250.],\n",
              "       [  42., 4459.],\n",
              "       [  21., 3551.]])"
            ]
          },
          "metadata": {},
          "execution_count": 24
        }
      ]
    },
    {
      "cell_type": "code",
      "source": [
        "edadMenorFiltro = edadColumn >= 20 \n",
        "edadMayorFiltro = edadColumn <= 30 \n",
        "edadFiltro = np.logical_and(edadMenorFiltro,edadMayorFiltro)\n",
        "edadFiltro\n",
        "\n"
      ],
      "metadata": {
        "colab": {
          "base_uri": "https://localhost:8080/"
        },
        "id": "fxXGYAHO-gnw",
        "outputId": "194b8902-146d-459d-8a0b-10cc398b5bb1"
      },
      "execution_count": null,
      "outputs": [
        {
          "output_type": "execute_result",
          "data": {
            "text/plain": [
              "array([False, False, False, False, False,  True, False, False,  True])"
            ]
          },
          "metadata": {},
          "execution_count": 81
        }
      ]
    },
    {
      "cell_type": "code",
      "source": [
        "edadMenorFiltro = columnIngresos >= 2000 \n",
        "ingresoMayorFiltro = columnIngresos <= 5000\n",
        "ingresoFiltro = np.logical_and(edadMenorFiltro,ingresoMayorFiltro)\n",
        "ingresoFiltro\n"
      ],
      "metadata": {
        "colab": {
          "base_uri": "https://localhost:8080/"
        },
        "id": "F3CgmRmYIqJ-",
        "outputId": "c7fda717-2a79-48d0-cf1e-ac6fdaa53f69"
      },
      "execution_count": null,
      "outputs": [
        {
          "output_type": "execute_result",
          "data": {
            "text/plain": [
              "array([ True,  True,  True,  True,  True,  True,  True,  True,  True])"
            ]
          },
          "metadata": {},
          "execution_count": 84
        }
      ]
    },
    {
      "cell_type": "code",
      "source": [
        "completoFiltro = np.logical_and(edadFiltro, ingresoFiltro)\n",
        "combina[completoFiltro]"
      ],
      "metadata": {
        "colab": {
          "base_uri": "https://localhost:8080/"
        },
        "id": "yxN-NeNrI6XU",
        "outputId": "8762a8b5-abbc-405b-f6f0-dbc89cf4e803"
      },
      "execution_count": null,
      "outputs": [
        {
          "output_type": "execute_result",
          "data": {
            "text/plain": [
              "array([[  24., 4466.],\n",
              "       [  21., 3551.]])"
            ]
          },
          "metadata": {},
          "execution_count": 96
        }
      ]
    }
  ]
}